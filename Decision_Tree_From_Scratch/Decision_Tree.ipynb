{
 "cells": [
  {
   "cell_type": "code",
   "execution_count": 8,
   "id": "a44cc3c4-419d-46b2-a667-b049868891f7",
   "metadata": {},
   "outputs": [],
   "source": [
    "import pandas as pd\n",
    "import numpy as np"
   ]
  },
  {
   "cell_type": "code",
   "execution_count": 24,
   "id": "3387785b-232a-4fe2-b320-a0c0e1537635",
   "metadata": {},
   "outputs": [
    {
     "data": {
      "text/html": [
       "<div>\n",
       "<style scoped>\n",
       "    .dataframe tbody tr th:only-of-type {\n",
       "        vertical-align: middle;\n",
       "    }\n",
       "\n",
       "    .dataframe tbody tr th {\n",
       "        vertical-align: top;\n",
       "    }\n",
       "\n",
       "    .dataframe thead th {\n",
       "        text-align: right;\n",
       "    }\n",
       "</style>\n",
       "<table border=\"1\" class=\"dataframe\">\n",
       "  <thead>\n",
       "    <tr style=\"text-align: right;\">\n",
       "      <th></th>\n",
       "      <th>length</th>\n",
       "      <th>weight</th>\n",
       "      <th>type</th>\n",
       "    </tr>\n",
       "  </thead>\n",
       "  <tbody>\n",
       "    <tr>\n",
       "      <th>0</th>\n",
       "      <td>8.618381</td>\n",
       "      <td>7.848030</td>\n",
       "      <td>tuna</td>\n",
       "    </tr>\n",
       "    <tr>\n",
       "      <th>1</th>\n",
       "      <td>2.522046</td>\n",
       "      <td>8.762507</td>\n",
       "      <td>tuna</td>\n",
       "    </tr>\n",
       "    <tr>\n",
       "      <th>2</th>\n",
       "      <td>2.035690</td>\n",
       "      <td>7.101971</td>\n",
       "      <td>tuna</td>\n",
       "    </tr>\n",
       "    <tr>\n",
       "      <th>3</th>\n",
       "      <td>6.695008</td>\n",
       "      <td>4.953932</td>\n",
       "      <td>salmon</td>\n",
       "    </tr>\n",
       "    <tr>\n",
       "      <th>4</th>\n",
       "      <td>9.834069</td>\n",
       "      <td>7.908453</td>\n",
       "      <td>tuna</td>\n",
       "    </tr>\n",
       "    <tr>\n",
       "      <th>...</th>\n",
       "      <td>...</td>\n",
       "      <td>...</td>\n",
       "      <td>...</td>\n",
       "    </tr>\n",
       "    <tr>\n",
       "      <th>995</th>\n",
       "      <td>3.710186</td>\n",
       "      <td>0.956612</td>\n",
       "      <td>salmon</td>\n",
       "    </tr>\n",
       "    <tr>\n",
       "      <th>996</th>\n",
       "      <td>3.749596</td>\n",
       "      <td>9.557450</td>\n",
       "      <td>salmon</td>\n",
       "    </tr>\n",
       "    <tr>\n",
       "      <th>997</th>\n",
       "      <td>2.410087</td>\n",
       "      <td>3.355781</td>\n",
       "      <td>tuna</td>\n",
       "    </tr>\n",
       "    <tr>\n",
       "      <th>998</th>\n",
       "      <td>0.990773</td>\n",
       "      <td>3.812210</td>\n",
       "      <td>tuna</td>\n",
       "    </tr>\n",
       "    <tr>\n",
       "      <th>999</th>\n",
       "      <td>7.519778</td>\n",
       "      <td>5.392817</td>\n",
       "      <td>tuna</td>\n",
       "    </tr>\n",
       "  </tbody>\n",
       "</table>\n",
       "<p>1000 rows × 3 columns</p>\n",
       "</div>"
      ],
      "text/plain": [
       "       length    weight    type\n",
       "0    8.618381  7.848030    tuna\n",
       "1    2.522046  8.762507    tuna\n",
       "2    2.035690  7.101971    tuna\n",
       "3    6.695008  4.953932  salmon\n",
       "4    9.834069  7.908453    tuna\n",
       "..        ...       ...     ...\n",
       "995  3.710186  0.956612  salmon\n",
       "996  3.749596  9.557450  salmon\n",
       "997  2.410087  3.355781    tuna\n",
       "998  0.990773  3.812210    tuna\n",
       "999  7.519778  5.392817    tuna\n",
       "\n",
       "[1000 rows x 3 columns]"
      ]
     },
     "execution_count": 24,
     "metadata": {},
     "output_type": "execute_result"
    }
   ],
   "source": [
    "df = pd.read_csv(\"./fish.csv\")\n",
    "df"
   ]
  },
  {
   "cell_type": "code",
   "execution_count": 25,
   "id": "bcf77a48-dd73-41b0-9e68-21bce2ab9cf9",
   "metadata": {},
   "outputs": [
    {
     "data": {
      "text/plain": [
       "array(['tuna', 'salmon'], dtype=object)"
      ]
     },
     "execution_count": 25,
     "metadata": {},
     "output_type": "execute_result"
    }
   ],
   "source": [
    "df[\"type\"].unique()\n",
    "# There are 2 classes, tuna or salmon"
   ]
  },
  {
   "cell_type": "code",
   "execution_count": 26,
   "id": "cfa5c9c5-59a7-4179-997d-5f3f5a50f5e5",
   "metadata": {},
   "outputs": [],
   "source": [
    "score_dict = {\"tuna\":0, \"salmon\":0} # Just a sample of how to keep track of leaves"
   ]
  },
  {
   "cell_type": "code",
   "execution_count": 27,
   "id": "9727d634-6ae7-4c7a-9bd6-6c049026b820",
   "metadata": {},
   "outputs": [],
   "source": [
    "def gini_impurity(score_dict):\n",
    "    \"\"\"\n",
    "    This function takes input a dictionary in the form ${\"tuna\":0, \"salmon\":0}$\n",
    "    and will return the impurity of the leaf\n",
    "    \"\"\"\n",
    "    gini_tuna, gini_salmon = 0,0\n",
    "    \n",
    "    tuna_score = score_dict[\"tuna\"]\n",
    "    salmon_score = score_dict[\"salmon\"]\n",
    "\n",
    "    tuna_prob = tuna_score / (tuna_score + salmon_score)\n",
    "    salmon_prob = salmon_score / (tuna_score + salmon_score)\n",
    "\n",
    "    gini_impurity = 1 - (tuna_prob)**2 - (salmon_prob)**2\n",
    "    return gini_impurity"
   ]
  },
  {
   "cell_type": "code",
   "execution_count": 28,
   "id": "69e235e8-f19c-4ef9-abbb-0e53ac2291c6",
   "metadata": {},
   "outputs": [],
   "source": [
    "def calc_total_gini(leaf1,leaf2):\n",
    "    \"\"\"\n",
    "    This function takes input 2 dictionary in the form ${\"tuna\":0, \"salmon\":0}$\n",
    "    and will return the total gini impurity of the leaf based on calculation from both\n",
    "    \"\"\"\n",
    "\n",
    "    Gini_impurity_1 = gini_impurity(leaf1)\n",
    "    Gini_impurity_2 = gini_impurity(leaf2)\n",
    "    total = sum(leaf1.values()) + sum(leaf2.values()) \n",
    "    # Calulate leaf impurity\n",
    "    Leaf1_impurity = sum(leaf1.values()) / total\n",
    "    Leaf2_impurity = sum(leaf2.values()) / total\n",
    "\n",
    "    Total_gini = ((Gini_impurity_1 * Leaf1_impurity) + (Gini_impurity_2 * Leaf2_impurity))\n",
    "    return Total_gini\n",
    "    "
   ]
  },
  {
   "cell_type": "code",
   "execution_count": 29,
   "id": "f34bac4a-43cb-44f8-9a8d-b44ab8529a84",
   "metadata": {},
   "outputs": [],
   "source": [
    "def make_score(column, thresold):\n",
    "    \"\"\"\n",
    "    This function creates the score_dictionary used in several functions\n",
    "    The inputs are columns and thresolds\n",
    "    The scores are calculated from a column based on each value\n",
    "    \"\"\"\n",
    "    score_dict_greater = {\"tuna\":0, \"salmon\":0}\n",
    "    score_dict_smaller = {\"tuna\":0, \"salmon\":0}\n",
    "    for i in range(0,len(df)):\n",
    "        if df[column][i] < thresold:\n",
    "            score_dict_smaller[df[\"type\"][i]] += 1\n",
    "        elif df[column][i] > thresold:\n",
    "            score_dict_greater[df[\"type\"][i]] += 1 \n",
    "    return score_dict_greater, score_dict_smaller\n",
    "    "
   ]
  },
  {
   "cell_type": "code",
   "execution_count": 48,
   "id": "0264398f-ccc2-4dc0-8c0b-4fbd3e4af8b9",
   "metadata": {},
   "outputs": [
    {
     "data": {
      "text/plain": [
       "(2.996014794, 0.3405252525252525)"
      ]
     },
     "execution_count": 48,
     "metadata": {},
     "output_type": "execute_result"
    }
   ],
   "source": [
    "def Best_Thresold(row_name, df):\n",
    "    \"\"\"\n",
    "    - Takes the row name as input, I have done this since both rows are numerical data\n",
    "    - Sorts the array and finds the midpoint between 2 adjacent values to figure out the possible thresolds\n",
    "    - Then it iterates through those thresolds\n",
    "    - While iteration:\n",
    "        The algorithm creates 2 leaves\n",
    "        Calculates the total gini impurity for them\n",
    "        Keeps track of the lowest gini impurity and the Best thresold\n",
    "    \"\"\"\n",
    "    row = np.array(df[row_name], dtype=np.double)\n",
    "    row = np.sort(row)\n",
    "    thresolds = []\n",
    "    midpoint = 0\n",
    "    # Making thresolds\n",
    "    for i in range(1, len(row)):\n",
    "        midpoint = (row[i] + row[i-1]) / 2\n",
    "        thresolds.append(midpoint)\n",
    "    # Making thresolds\n",
    "    TotalGini = 99999999 # We want to minimise the gini impurity\n",
    "    BestThresold = 0\n",
    "    \n",
    "    for i in range(0,len(thresolds)):\n",
    "        Thresold = thresolds[i]\n",
    "        Column = row_name\n",
    "        Leaf_True, Leaf_False = make_score(Column, Thresold)\n",
    "        CalculatedGini = calc_total_gini(Leaf_True, Leaf_False)\n",
    "        if CalculatedGini < TotalGini:\n",
    "            TotalGini = CalculatedGini\n",
    "            BestThresold = Thresold # Keeping track of thresold which gives the least gini impurity\n",
    "\n",
    "    return BestThresold, TotalGini\n",
    "Best_Thresold(\"length\",df)"
   ]
  },
  {
   "cell_type": "code",
   "execution_count": null,
   "id": "32c9ba04-3b37-42c2-a756-de540a820ff6",
   "metadata": {},
   "outputs": [],
   "source": []
  },
  {
   "cell_type": "code",
   "execution_count": 62,
   "id": "83fa00c2-aaee-4fa0-a198-143970dadab2",
   "metadata": {
    "scrolled": true
   },
   "outputs": [
    {
     "name": "stdout",
     "output_type": "stream",
     "text": [
      "Impurity:  0.3405252525252525 For  length Best split is 2.996014794\n",
      "Impurity:  0.3234977144744514 For  weight Best split is 3.989097837\n"
     ]
    }
   ],
   "source": [
    "def split(dff):\n",
    "    \"\"\"\n",
    "    Finds the best split for each column\n",
    "    \"\"\"\n",
    "    key_columns = [\"length\", \"weight\"] \n",
    "    for column in key_columns:\n",
    "        BestThresold, GiniImpurity = Best_Thresold(column,dff)\n",
    "        print(\"Impurity: \" ,GiniImpurity, \"For \", column, \"Best split is\", BestThresold)\n",
    "    \n",
    "split(df)"
   ]
  },
  {
   "cell_type": "code",
   "execution_count": 63,
   "id": "e905563e-09c8-4dad-966f-d927c88f207d",
   "metadata": {},
   "outputs": [],
   "source": [
    "# Okay the best column to split is weight < 2.996014794"
   ]
  },
  {
   "cell_type": "code",
   "execution_count": 64,
   "id": "d4c1a96c-a635-4995-a9c8-814675f60f41",
   "metadata": {},
   "outputs": [
    {
     "data": {
      "text/plain": [
       "({'tuna': 483, 'salmon': 86}, {'tuna': 125, 'salmon': 306})"
      ]
     },
     "execution_count": 64,
     "metadata": {},
     "output_type": "execute_result"
    }
   ],
   "source": [
    "make_score(\"weight\",3.989097837 )"
   ]
  },
  {
   "cell_type": "code",
   "execution_count": 65,
   "id": "452fcd79-2f0b-476c-b00f-3da8ab8b7e1d",
   "metadata": {},
   "outputs": [],
   "source": [
    "# Weight > 3.989097837 ?????\n",
    "# True: {'tuna': 513, 'salmon': 153 \n",
    "# False: {'tuna': 95, 'salmon': 239}"
   ]
  },
  {
   "cell_type": "code",
   "execution_count": 66,
   "id": "940af748-fd80-4255-acb5-297c4877dafb",
   "metadata": {},
   "outputs": [],
   "source": [
    "# Split the true part using the optimal length\n",
    "df_False = df[df['weight'] < 3.989097837]\n",
    "# Keep all values where weight is smaller than 3.989097837...\n",
    "df_True = df[df['weight'] > 3.989097837]\n",
    "# Keep all values where weight is greater than 3.989097837...\n"
   ]
  },
  {
   "cell_type": "code",
   "execution_count": 67,
   "id": "31c84feb-d3e4-4ffb-9428-5c20d8b4028f",
   "metadata": {},
   "outputs": [],
   "source": [
    "# Now we have 2 sets where we want to find the optimal split "
   ]
  },
  {
   "cell_type": "markdown",
   "id": "682b1186-21e0-4157-96b5-e759a95eea62",
   "metadata": {},
   "source": [
    "![Image1](./image/Image1.PNG)  "
   ]
  },
  {
   "cell_type": "code",
   "execution_count": 68,
   "id": "cb200de3-6e41-4696-986a-a3f281e36cf8",
   "metadata": {},
   "outputs": [
    {
     "name": "stdout",
     "output_type": "stream",
     "text": [
      "Impurity:  0.3405252525252525 For  length Best split is 2.9966957835\n",
      "Impurity:  0.3244577464788732 For  weight Best split is 3.9989821555000002\n"
     ]
    }
   ],
   "source": [
    "split(df_True)"
   ]
  },
  {
   "cell_type": "code",
   "execution_count": 69,
   "id": "23884232-d387-4c57-a6c0-4c3a3d38ea91",
   "metadata": {},
   "outputs": [
    {
     "data": {
      "text/plain": [
       "(2.9966957835, 0.3405252525252525)"
      ]
     },
     "execution_count": 69,
     "metadata": {},
     "output_type": "execute_result"
    }
   ],
   "source": [
    "Best_Thresold(\"length\", df_True)"
   ]
  },
  {
   "cell_type": "code",
   "execution_count": null,
   "id": "b56b6858-abf5-40ac-8611-57f72afbbcab",
   "metadata": {},
   "outputs": [],
   "source": []
  }
 ],
 "metadata": {
  "kernelspec": {
   "display_name": "Python 3 (ipykernel)",
   "language": "python",
   "name": "python3"
  },
  "language_info": {
   "codemirror_mode": {
    "name": "ipython",
    "version": 3
   },
   "file_extension": ".py",
   "mimetype": "text/x-python",
   "name": "python",
   "nbconvert_exporter": "python",
   "pygments_lexer": "ipython3",
   "version": "3.11.4"
  }
 },
 "nbformat": 4,
 "nbformat_minor": 5
}
